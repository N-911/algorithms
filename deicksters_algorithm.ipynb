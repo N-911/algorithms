{
 "cells": [
  {
   "cell_type": "markdown",
   "metadata": {},
   "source": [
    "Чтобы разобраться в происходящем более подробно, посмотрим, что происходит с нашим кодом строчка за строчкой. Для этого я буду использовать сервис Python Tutor, с помощью которого можно визуализировать выполнение кода. (Вы можете использовать этот сайт для отладки своих программ.)"
   ]
  },
  {
   "cell_type": "code",
   "execution_count": null,
   "metadata": {},
   "outputs": [],
   "source": [
    "pip install git+https://github.com/kikocorreoso/tutormagic.git"
   ]
  },
  {
   "cell_type": "code",
   "execution_count": null,
   "metadata": {},
   "outputs": [],
   "source": [
    "The following command must be run outside of the IPython shell:\n",
    "\n",
    "    $ pip install git+https://github.com/kikocorreoso/tutormagic.git\n",
    "\n",
    "The Python package manager (pip) can only be used from outside of IPython.\n",
    "Please reissue the `pip` command in a separate terminal or command prompt.\n",
    "\n",
    "See the Python documentation for more information on how to install packages:\n",
    "\n",
    "    https://docs.python.org/3/installing/"
   ]
  },
  {
   "cell_type": "code",
   "execution_count": null,
   "metadata": {},
   "outputs": [],
   "source": [
    "pip install tutormagic"
   ]
  },
  {
   "cell_type": "code",
   "execution_count": null,
   "metadata": {},
   "outputs": [],
   "source": [
    "The following command must be run outside of the IPython shell:\n",
    "\n",
    "    $ pip install tutormagic\n",
    "\n",
    "The Python package manager (pip) can only be used from outside of IPython.\n",
    "Please reissue the `pip` command in a separate terminal or command prompt.\n",
    "\n",
    "See the Python documentation for more information on how to install packages:\n",
    "\n",
    "    https://docs.python.org/3/installing/"
   ]
  },
  {
   "cell_type": "code",
   "execution_count": 2,
   "metadata": {},
   "outputs": [],
   "source": [
    "%load_ext tutormagic"
   ]
  },
  {
   "cell_type": "code",
   "execution_count": 3,
   "metadata": {},
   "outputs": [
    {
     "data": {
      "text/html": [
       "\n",
       "        <iframe\n",
       "            width=\"100%\"\n",
       "            height=\"350\"\n",
       "            src=\"http://pythontutor.com/iframe-embed.html#code=graph%20%3D%20%7B%7D%0Agraph%5B%22start%22%5D%20%3D%20%7B%7D%0Agraph%5B%22start%22%5D%5B%22a%22%5D%20%3D%206%0Agraph%5B%22start%22%5D%5B%22b%22%5D%20%3D%202%0A%0Agraph%5B%22a%22%5D%20%3D%20%7B%7D%0Agraph%5B%22a%22%5D%5B%22fin%22%5D%20%3D%201%0A%0Agraph%5B%22b%22%5D%20%3D%20%7B%7D%0Agraph%5B%22b%22%5D%5B%22a%22%5D%20%3D%203%0Agraph%5B%22b%22%5D%5B%22fin%22%5D%20%3D%205%0A%0Agraph%5B%22fin%22%5D%20%3D%20%7B%7D%0A%0Ainfinity%20%3D%20float%28%27inf%27%29%0Acosts%20%3D%20%7B%7D%0Acosts%5B%22a%22%5D%20%3D%206%0Acosts%5B%22b%22%5D%20%3D%202%0Acosts%5B%22fin%22%5D%20%3D%20infinity%0A%0Aparents%20%3D%20%7B%7D%0Aparents%5B%22a%22%5D%20%3D%20%22start%22%0Aparents%5B%22b%22%5D%20%3D%20%22start%22%0Aparents%5B%22fin%22%5D%20%3D%20None%0A%0Aprocessed%20%3D%20%5B%5D%0A%0Adef%20find_lowest_cost_node%28costs%29%3A%0A%20%20%20%20lowest_cost%20%3D%20float%28%22inf%22%29%0A%20%20%20%20lowest_cost_node%20%3D%20None%0A%20%20%20%20%23%20Go%20through%20each%20node.%0A%20%20%20%20for%20node%20in%20costs%3A%0A%20%20%20%20%20%20%20%20cost%20%3D%20costs%5Bnode%5D%0A%20%20%20%20%20%20%20%20%23%20If%20it%27s%20the%20lowest%20cost%20so%20far%20and%20hasn%27t%20been%20processed%20yet...%0A%20%20%20%20%20%20%20%20if%20cost%20%3C%20lowest_cost%20and%20node%20not%20in%20processed%3A%0A%20%20%20%20%20%20%20%20%20%20%20%20%23%20...%20set%20it%20as%20the%20new%20lowest-cost%20node.%0A%20%20%20%20%20%20%20%20%20%20%20%20lowest_cost%20%3D%20cost%0A%20%20%20%20%20%20%20%20%20%20%20%20lowest_cost_node%20%3D%20node%0A%20%20%20%20return%20lowest_cost_node%0A%0A%23%20Find%20the%20lowest-cost%20node%20that%20you%20haven%27t%20processed%20yet.%0Anode%20%3D%20find_lowest_cost_node%28costs%29%0A%23%20If%20you%27ve%20processed%20all%20the%20nodes%2C%20this%20while%20loop%20is%20done.%0Awhile%20node%20is%20not%20None%3A%0A%20%20%20%20cost%20%3D%20costs%5Bnode%5D%0A%20%20%20%20%23%20Go%20through%20all%20the%20neighbors%20of%20this%20node.%0A%20%20%20%20neighbors%20%3D%20graph%5Bnode%5D%0A%20%20%20%20for%20n%20in%20neighbors.keys%28%29%3A%0A%20%20%20%20%20%20%20%20new_cost%20%3D%20cost%20%2B%20neighbors%5Bn%5D%0A%20%20%20%20%20%20%20%20%23%20If%20it%27s%20cheaper%20to%20get%20to%20this%20neighbor%20by%20going%20through%20this%20node...%0A%20%20%20%20%20%20%20%20if%20costs%5Bn%5D%20%3E%20new_cost%3A%0A%20%20%20%20%20%20%20%20%20%20%20%20%23%20...%20update%20the%20cost%20for%20this%20node.%0A%20%20%20%20%20%20%20%20%20%20%20%20costs%5Bn%5D%20%3D%20new_cost%0A%20%20%20%20%20%20%20%20%20%20%20%20%23%20This%20node%20becomes%20the%20new%20parent%20for%20this%20neighbor.%0A%20%20%20%20%20%20%20%20%20%20%20%20parents%5Bn%5D%20%3D%20node%0A%20%20%20%20%23%20Mark%20the%20node%20as%20processed.%0A%20%20%20%20processed.append%28node%29%0A%20%20%20%20%23%20Find%20the%20next%20node%20to%20process%2C%20and%20loop.%0A%20%20%20%20node%20%3D%20find_lowest_cost_node%28costs%29%0A%0Aprint%28%22Cost%20from%20the%20start%20to%20each%20node%3A%22%29%0Aprint%28costs%5B%27fin%27%5D%29%0A%0A%0A&origin=opt-frontend.js&cumulative=false&heapPrimitives=false&textReferences=false&curInstr=0&&verticalStack=false&py=3&rawInputLstJSON=%5B%5D&codeDivWidth=50%25&codeDivHeight=100%25\"\n",
       "            frameborder=\"0\"\n",
       "            allowfullscreen\n",
       "        ></iframe>\n",
       "        "
      ],
      "text/plain": [
       "<IPython.lib.display.IFrame at 0x27435baeda0>"
      ]
     },
     "metadata": {},
     "output_type": "display_data"
    }
   ],
   "source": [
    "%%tutor --lang python3 # магия\n",
    "graph = {}\n",
    "graph[\"start\"] = {}\n",
    "graph[\"start\"][\"a\"] = 6\n",
    "graph[\"start\"][\"b\"] = 2\n",
    "\n",
    "graph[\"a\"] = {}\n",
    "graph[\"a\"][\"fin\"] = 1\n",
    "\n",
    "graph[\"b\"] = {}\n",
    "graph[\"b\"][\"a\"] = 3\n",
    "graph[\"b\"][\"fin\"] = 5\n",
    "\n",
    "graph[\"fin\"] = {}\n",
    "\n",
    "infinity = float('inf')\n",
    "costs = {}\n",
    "costs[\"a\"] = 6\n",
    "costs[\"b\"] = 2\n",
    "costs[\"fin\"] = infinity\n",
    "\n",
    "parents = {}\n",
    "parents[\"a\"] = \"start\"\n",
    "parents[\"b\"] = \"start\"\n",
    "parents[\"fin\"] = None\n",
    "\n",
    "processed = []\n",
    "\n",
    "def find_lowest_cost_node(costs):\n",
    "    lowest_cost = float(\"inf\")\n",
    "    lowest_cost_node = None\n",
    "    # Go through each node.\n",
    "    for node in costs:\n",
    "        cost = costs[node]\n",
    "        # If it's the lowest cost so far and hasn't been processed yet...\n",
    "        if cost < lowest_cost and node not in processed:\n",
    "            # ... set it as the new lowest-cost node.\n",
    "            lowest_cost = cost\n",
    "            lowest_cost_node = node\n",
    "    return lowest_cost_node\n",
    "\n",
    "# Find the lowest-cost node that you haven't processed yet.\n",
    "node = find_lowest_cost_node(costs)\n",
    "# If you've processed all the nodes, this while loop is done.\n",
    "while node is not None:\n",
    "    cost = costs[node]\n",
    "    # Go through all the neighbors of this node.\n",
    "    neighbors = graph[node]\n",
    "    for n in neighbors.keys():\n",
    "        new_cost = cost + neighbors[n]\n",
    "        # If it's cheaper to get to this neighbor by going through this node...\n",
    "        if costs[n] > new_cost:\n",
    "            # ... update the cost for this node.\n",
    "            costs[n] = new_cost\n",
    "            # This node becomes the new parent for this neighbor.\n",
    "            parents[n] = node\n",
    "    # Mark the node as processed.\n",
    "    processed.append(node)\n",
    "    # Find the next node to process, and loop.\n",
    "    node = find_lowest_cost_node(costs)\n",
    "\n",
    "print(\"Cost from the start to each node:\")\n",
    "print(costs['fin'])\n",
    "\n",
    "\n"
   ]
  }
 ],
 "metadata": {
  "kernelspec": {
   "display_name": "Python 3",
   "language": "python",
   "name": "python3"
  },
  "language_info": {
   "codemirror_mode": {
    "name": "ipython",
    "version": 3
   },
   "file_extension": ".py",
   "mimetype": "text/x-python",
   "name": "python",
   "nbconvert_exporter": "python",
   "pygments_lexer": "ipython3",
   "version": "3.6.7"
  }
 },
 "nbformat": 4,
 "nbformat_minor": 2
}
